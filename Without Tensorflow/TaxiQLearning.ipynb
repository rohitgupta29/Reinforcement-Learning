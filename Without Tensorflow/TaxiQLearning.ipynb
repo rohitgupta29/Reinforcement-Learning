{
 "cells": [
  {
   "cell_type": "code",
   "execution_count": 1,
   "metadata": {},
   "outputs": [],
   "source": [
    "import numpy as np\n",
    "import gym\n"
   ]
  },
  {
   "cell_type": "code",
   "execution_count": 2,
   "metadata": {},
   "outputs": [
    {
     "name": "stdout",
     "output_type": "stream",
     "text": [
      "Action space size:  6\n",
      "State space size:  500\n"
     ]
    }
   ],
   "source": [
    "env = gym.make(\"Taxi-v3\")\n",
    "action_size = env.action_space.n\n",
    "state_size = env.observation_space.n\n",
    "\n",
    "print(\"Action space size: \", action_size)\n",
    "print(\"State space size: \" , state_size)"
   ]
  },
  {
   "cell_type": "code",
   "execution_count": 3,
   "metadata": {},
   "outputs": [],
   "source": [
    "#creating a 500 x 6 matrix\n",
    "Q = np.zeros([state_size, action_size])\n"
   ]
  },
  {
   "cell_type": "code",
   "execution_count": 4,
   "metadata": {},
   "outputs": [],
   "source": [
    "alpha = 0.610"
   ]
  },
  {
   "cell_type": "code",
   "execution_count": 5,
   "metadata": {},
   "outputs": [
    {
     "name": "stdout",
     "output_type": "stream",
     "text": [
      "cnt : 202 Reward : 20 Episode : 10\n",
      "cnt : 73 Reward : 20 Episode : 20\n",
      "cnt : 62 Reward : 20 Episode : 30\n",
      "cnt : 235 Reward : 20 Episode : 40\n"
     ]
    }
   ],
   "source": [
    "for episode in range(1,50):\n",
    "    \n",
    "    state = env.reset()\n",
    "    reward = 0\n",
    "    cnt = 0\n",
    "    while reward != 20:\n",
    "        cnt = cnt + 1\n",
    "        action = np.argmax(Q[state])\n",
    "        state2 , reward , done, info = env.step(action)\n",
    "        Q[state,action] = reward + alpha * np.max(Q[state2])\n",
    "        state = state2\n",
    "        \n",
    "    if episode % 10 == 0:\n",
    "        print(\"cnt : \" + str(cnt) + \" Reward : \" + str(reward) + \" Episode : \" + str(episode))\n",
    "        "
   ]
  },
  {
   "cell_type": "code",
   "execution_count": null,
   "metadata": {},
   "outputs": [],
   "source": []
  }
 ],
 "metadata": {
  "kernelspec": {
   "display_name": "Python 3",
   "language": "python",
   "name": "python3"
  },
  "language_info": {
   "codemirror_mode": {
    "name": "ipython",
    "version": 3
   },
   "file_extension": ".py",
   "mimetype": "text/x-python",
   "name": "python",
   "nbconvert_exporter": "python",
   "pygments_lexer": "ipython3",
   "version": "3.7.6"
  }
 },
 "nbformat": 4,
 "nbformat_minor": 4
}
